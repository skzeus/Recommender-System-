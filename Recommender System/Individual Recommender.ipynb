{
 "cells": [
  {
   "cell_type": "markdown",
   "metadata": {
    "id": "XLT8tlc2l4hm"
   },
   "source": [
    "# First Thing First\n",
    "Import necessary libraries (pandas,numpy,scipy, etc.), define file paths, import MovieLens dataset (CSV files), display the first few rows of all the files and print the total number of ratings in the dataset."
   ]
  },
  {
   "cell_type": "code",
   "execution_count": 2,
   "metadata": {
    "colab": {
     "base_uri": "https://localhost:8080/"
    },
    "id": "hSpZ05x5OCIX",
    "outputId": "9b80d7fc-ff6e-4b6b-b3be-24fc7ac93b26"
   },
   "outputs": [
    {
     "name": "stdout",
     "output_type": "stream",
     "text": [
      "Links Data:\n",
      "   movieId  imdbId   tmdbId\n",
      "0        1  114709    862.0\n",
      "1        2  113497   8844.0\n",
      "2        3  113228  15602.0\n",
      "3        4  114885  31357.0\n",
      "4        5  113041  11862.0\n",
      "\n",
      " Movies Data:\n",
      "   movieId                               title  \\\n",
      "0        1                    Toy Story (1995)   \n",
      "1        2                      Jumanji (1995)   \n",
      "2        3             Grumpier Old Men (1995)   \n",
      "3        4            Waiting to Exhale (1995)   \n",
      "4        5  Father of the Bride Part II (1995)   \n",
      "\n",
      "                                        genres  \n",
      "0  Adventure|Animation|Children|Comedy|Fantasy  \n",
      "1                   Adventure|Children|Fantasy  \n",
      "2                               Comedy|Romance  \n",
      "3                         Comedy|Drama|Romance  \n",
      "4                                       Comedy  \n",
      "\n",
      " Ratings Data:\n",
      "   userId  movieId  rating  timestamp\n",
      "0       1        1     4.0  964982703\n",
      "1       1        3     4.0  964981247\n",
      "2       1        6     4.0  964982224\n",
      "3       1       47     5.0  964983815\n",
      "4       1       50     5.0  964982931\n",
      "\n",
      " Tags Data: \n",
      "   userId  movieId              tag   timestamp\n",
      "0       2    60756            funny  1445714994\n",
      "1       2    60756  Highly quotable  1445714996\n",
      "2       2    60756     will ferrell  1445714992\n",
      "3       2    89774     Boxing story  1445715207\n",
      "4       2    89774              MMA  1445715200\n",
      "\n",
      " Total count of ratings (rows) in the dataset: 100836\n"
     ]
    }
   ],
   "source": [
    "import pandas as pd\n",
    "import numpy as np\n",
    "import pandas as pd\n",
    "from scipy.stats import pearsonr\n",
    "import time\n",
    "file_path = 'ml-latest-small'\n",
    "\n",
    "#importing all the movielens's main csv files\n",
    "\n",
    "link_csv= file_path + '/links.csv'\n",
    "movies_csv = file_path + '/movies.csv'\n",
    "ratings_file = file_path + '/ratings.csv'\n",
    "tags_csv = file_path + '/tags.csv'\n",
    "\n",
    "links=pd.read_csv(link_csv)\n",
    "movies = pd.read_csv(movies_csv)\n",
    "ratings = pd.read_csv(ratings_file)\n",
    "tags = pd.read_csv(tags_csv)\n",
    "\n",
    "print(\"Links Data:\")\n",
    "print(links.head())\n",
    "\n",
    "print(\"\\n Movies Data:\")\n",
    "print(movies.head())\n",
    "\n",
    "print(\"\\n Ratings Data:\")\n",
    "print(ratings.head())\n",
    "\n",
    "print(\"\\n Tags Data: \")\n",
    "print(tags.head())\n",
    "\n",
    "#count number of total ratings by counting the total rows\n",
    "ratings_count= ratings.shape[0]\n",
    "print(f\"\\n Total count of ratings (rows) in the dataset: {ratings_count}\")"
   ]
  },
  {
   "cell_type": "markdown",
   "metadata": {
    "id": "vsBCkvwlnSuj"
   },
   "source": [
    "# Removing movies without any rating\n",
    "This prune_movies_df function is removing movies from the movies DataFrame which have no rating from any of the Users."
   ]
  },
  {
   "cell_type": "code",
   "execution_count": 3,
   "metadata": {
    "id": "umfRwFUGOQH4"
   },
   "outputs": [],
   "source": [
    "def prune_movies_df(movies, ratings):\n",
    "    movie_ids = np.array(movies['movieId'])\n",
    "    #print(len(movie_ids))  # Uncomment for debugging purposes\n",
    "    rated_movie_ids = set(list(np.array(ratings['movieId'])))\n",
    "    #print(len(rated_movie_ids))  # Uncomment for debugging purposes\n",
    "    uncommon_movies = []\n",
    "    # Getting movies that are in movies.csv but not in ratings.csv\n",
    "    for i in movie_ids:\n",
    "        if i not in rated_movie_ids:\n",
    "            uncommon_movies.append(i)\n",
    "    ind = []\n",
    "    for movie_id in uncommon_movies:\n",
    "        movies.drop(movies.loc[movies['movieId'] == movie_id].index,\n",
    "                    inplace=True)  # removing those movies from the dataframe\n",
    "    print(f'There were {len(uncommon_movies)} movies without any ratings. We removed them.')\n",
    "    return movies\n",
    "\n",
    "\n",
    "\n"
   ]
  },
  {
   "cell_type": "markdown",
   "metadata": {
    "id": "dihovPOVokMc"
   },
   "source": [
    "# Get similar users\n",
    "We are creating a user item matrix (user_rating_mat), where the indexes are the userId, columns are movieId and values are the ratings of those movies ratings assigned by the user IDs. Then we define the get_similarUsers function to find similar users using Pearson correlation."
   ]
  },
  {
   "cell_type": "code",
   "execution_count": 4,
   "metadata": {
    "colab": {
     "base_uri": "https://localhost:8080/"
    },
    "id": "ZxhLbe8nObV-",
    "outputId": "e7d4c922-2ccb-4d8e-83a0-406c26194900"
   },
   "outputs": [
    {
     "name": "stdout",
     "output_type": "stream",
     "text": [
      "There were 18 movies without any ratings. We removed them.\n"
     ]
    }
   ],
   "source": [
    "# Grouping ratings and creating user-item matrix\n",
    "movies = prune_movies_df(movies, ratings)  # pruning the movies from movies_df that weren't rated by anyone\n",
    "user_rating_mat = ratings.pivot(index='userId', columns='movieId', values='rating')\n",
    "\n",
    "def get_similarUsers(u_index, ui_matrix, topk_users=30):  # get top k similar users\n",
    "    sim = []\n",
    "    total_users = ui_matrix.shape[0]\n",
    "    x = np.array(ui_matrix.iloc[u_index, :])  # converting our main user's ratings into a numpy array\n",
    "    for i in range(total_users):\n",
    "        if i != u_index:\n",
    "            y = np.array(ui_matrix.iloc[i, :])  # converting similar user's ratings into a numpy array\n",
    "            xy_stacked = np.vstack([x, y])  # Stacking two users\n",
    "            xy = xy_stacked[:, ~np.any(np.isnan(xy_stacked), axis=0)]  # only getting the vector where both arrays have values\n",
    "\n",
    "            if len(xy[0]) > 3 and len(xy[1]) > 3:  # assumption\n",
    "                r, _ = pearsonr(xy[0], xy[1])\n",
    "                if np.isnan(r):  # Checking if pearson coefficient is Nan\n",
    "                    r = 0\n",
    "                sim.append((i, r))  # appending (index, value) tuple in the similarity list\n",
    "    sim.sort(key=lambda o: o[1])  # sorting the tuples based on similarity\n",
    "    sim_top=list(reversed(sim[-topk_users:]))\n",
    "    return sim_top  # getting the top 30 most similar users to our user\n"
   ]
  },
  {
   "cell_type": "markdown",
   "metadata": {
    "id": "FLlY4ceTsHGG"
   },
   "source": [
    "# Prediction Function\n",
    "This pred function predicts ratings for movies for a user if the user has not rated it yet. We are using top 30 similar users' similarity score for calculating the predicted ratings."
   ]
  },
  {
   "cell_type": "code",
   "execution_count": 5,
   "metadata": {
    "id": "x7z5LvzFPZt_"
   },
   "outputs": [],
   "source": [
    "def pred(ui_matrix, u_index, sim_matrix, topk_recommendations):\n",
    "    item_pred = []\n",
    "    x = np.array(ui_matrix.iloc[u_index, :])\n",
    "    x_mean = np.nanmean(x)\n",
    "\n",
    "    for item in range(len(x)):\n",
    "        if np.isnan(ui_matrix.iloc[u_index, item]):\n",
    "            simsum_centering = []\n",
    "            sim_sum = 0  # Initialize sim_sum for this item\n",
    "\n",
    "            for index, similarity in sim_matrix:\n",
    "                if not np.isnan(ui_matrix.iloc[index, item]):\n",
    "                    y = np.array(ui_matrix.iloc[index, :])\n",
    "                    y_mean = np.nanmean(y)\n",
    "                    rating = ui_matrix.iloc[index, item]\n",
    "                    rating_centered = rating - y_mean\n",
    "                    simsum_centering.append(similarity * rating_centered)\n",
    "\n",
    "                    sim_sum += similarity  # Add similarity for users who rated the item\n",
    "\n",
    "            if sim_sum != 0 and np.sum(simsum_centering) != 0: # check zero values\n",
    "                pred = x_mean + (np.sum(simsum_centering) / abs(sim_sum))\n",
    "            else:\n",
    "                pred = x_mean  # If either is zero, set pred to x_mean\n",
    "            item_pred.append((item, pred))\n",
    "\n",
    "    item_pred.sort(key=lambda u: u[1])\n",
    "    return list(reversed(item_pred[-topk_recommendations:]))"
   ]
  },
  {
   "cell_type": "markdown",
   "metadata": {
    "id": "f0kl_KC2zAvj"
   },
   "source": [
    "# Recommendation based on Pearson collaborative filtering approach\n",
    "By running this cell a user will be able to enter a user ID. Then our code will find similar users by using get_similarUsers, predicts movie ratings using pred. It will then print the top 10 similar users and top 20 movie recommended movies (based on highest predicted ratings) along with their genres and predicted scores."
   ]
  },
  {
   "cell_type": "code",
   "execution_count": 6,
   "metadata": {
    "colab": {
     "base_uri": "https://localhost:8080/"
    },
    "id": "mjjfPMDQPm0C",
    "outputId": "d151a3d2-0b69-49a4-a9fa-896e2fb2f5a9"
   },
   "outputs": [
    {
     "name": "stderr",
     "output_type": "stream",
     "text": [
      "C:\\Users\\DELL\\AppData\\Local\\Temp\\ipykernel_19556\\2908271822.py:16: ConstantInputWarning: An input array is constant; the correlation coefficient is not defined.\n",
      "  r, _ = pearsonr(xy[0], xy[1])\n"
     ]
    },
    {
     "name": "stdout",
     "output_type": "stream",
     "text": [
      "Top 10 Most Similar Users for user:  1\n",
      "User ID: 473 , Score:  0.9622504486493761\n",
      "User ID: 511 , Score:  0.9258200997725516\n",
      "User ID: 9 , Score:  0.9185586535436918\n",
      "User ID: 13 , Score:  0.8783100656536796\n",
      "User ID: 366 , Score:  0.8728715609439694\n",
      "User ID: 401 , Score:  0.8669214468630106\n",
      "User ID: 535 , Score:  0.8664002254439633\n",
      "User ID: 90 , Score:  0.8215838362577492\n",
      "User ID: 157 , Score:  0.8017837257372732\n",
      "User ID: 139 , Score:  0.7905694150420948\n",
      "Top 20 Recommended Movies for user:  1\n",
      "\n",
      "\n",
      "Movie Id: 319 , Movie:  Shallow Grave (1994) , Genre:  Comedy|Drama|Thriller , Rating:  6.769157088122605\n",
      "Movie Id: 2761 , Movie:  Iron Giant, The (1999) , Genre:  Adventure|Animation|Children|Drama|Sci-Fi , Rating:  6.237161922155337\n",
      "Movie Id: 27482 , Movie:  Cube 2: Hypercube (2002) , Genre:  Horror|Mystery|Sci-Fi , Rating:  6.223522167487685\n",
      "Movie Id: 105653 , Movie:  Escape Plan (2013) , Genre:  Action|Mystery|Thriller , Rating:  6.222049413437611\n",
      "Movie Id: 1475 , Movie:  Kama Sutra: A Tale of Love (1996) , Genre:  Romance , Rating:  6.01221264367816\n",
      "Movie Id: 1428 , Movie:  Angel Baby (1995) , Genre:  Drama , Rating:  6.01221264367816\n",
      "Movie Id: 737 , Movie:  Barb Wire (1996) , Genre:  Action|Sci-Fi , Rating:  6.01221264367816\n",
      "Movie Id: 112 , Movie:  Rumble in the Bronx (Hont faan kui) (1995) , Genre:  Action|Adventure|Comedy|Crime , Rating:  6.01221264367816\n",
      "Movie Id: 1883 , Movie:  Bulworth (1998) , Genre:  Comedy|Drama|Romance , Rating:  5.974906442127773\n",
      "Movie Id: 140715 , Movie:  Straight Outta Compton (2015) , Genre:  Drama , Rating:  5.930895439377085\n",
      "Movie Id: 171 , Movie:  Jeffrey (1995) , Genre:  Comedy|Drama , Rating:  5.886379310344827\n",
      "Movie Id: 5875 , Movie:  Personal Velocity (2002) , Genre:  Drama , Rating:  5.83860153256705\n",
      "Movie Id: 2598 , Movie:  Pushing Tin (1999) , Genre:  Comedy , Rating:  5.806767133144795\n",
      "Movie Id: 2950 , Movie:  Blue Lagoon, The (1980) , Genre:  Adventure|Drama|Romance , Rating:  5.769157088122605\n",
      "Movie Id: 1342 , Movie:  Candyman (1992) , Genre:  Horror|Thriller , Rating:  5.769157088122605\n",
      "Movie Id: 1047 , Movie:  Long Kiss Goodnight, The (1996) , Genre:  Action|Drama|Thriller , Rating:  5.769157088122605\n",
      "Movie Id: 866 , Movie:  Bound (1996) , Genre:  Crime|Drama|Romance|Thriller , Rating:  5.769157088122605\n",
      "Movie Id: 482 , Movie:  Killing Zoe (1994) , Genre:  Crime|Drama|Thriller , Rating:  5.769157088122605\n",
      "Movie Id: 288 , Movie:  Natural Born Killers (1994) , Genre:  Action|Crime|Thriller , Rating:  5.769157088122605\n",
      "Movie Id: 60291 , Movie:  Gonzo: The Life and Work of Dr. Hunter S. Thompson (2008) , Genre:  Documentary , Rating:  5.725110613790479\n"
     ]
    }
   ],
   "source": [
    "\n",
    "while True:\n",
    "    user_id_input = input(\"Enter the user ID: \").strip()  # Get input and trim spaces\n",
    "    try:\n",
    "        user_id = int(user_id_input)  # Try converting to integer\n",
    "        break  # Exit loop if successful\n",
    "    except ValueError:\n",
    "        print(\"Invalid input. Please enter an integer.\")\n",
    "sim = get_similarUsers(u_index=user_id - 1, ui_matrix=user_rating_mat,\n",
    "                       topk_users=30)  # topk_users argument takes 30 top similar users default\n",
    "predictions = pred(ui_matrix=user_rating_mat, u_index=user_id - 1, sim_matrix=sim, topk_recommendations=20)\n",
    "\n",
    "# Top 10 Most Similar Users\n",
    "print(\"Top 10 Most Similar Users for user: \", user_id)\n",
    "for index, score in sim[:10]:\n",
    "    print (\"User ID:\", index + 1, \", Score: \", score)  # + 1 because users start from 1\n",
    "\n",
    "# Top 20 Movie Recommendations for User\n",
    "print(\"Top 20 Recommended Movies for user: \", user_id)\n",
    "print('\\n')\n",
    "p_list = []\n",
    "for index, value in predictions:\n",
    "    movie_id = movies.get('movieId')[index]  # get the Movie ID corresponding the index\n",
    "    movie_title = movies.get('title')[index]  # get the Movie Title corresponding the index\n",
    "    movie_genre = movies.get('genres')[index]  # get the Movie Genres corresponding the index\n",
    "\n",
    "    p_list.append(movie_id)\n",
    "    print(\"Movie Id:\", movie_id, \", Movie: \", movie_title, \", Genre: \", movie_genre, \", Rating: \", value)\n"
   ]
  },
  {
   "cell_type": "markdown",
   "metadata": {
    "id": "-E4827QfwvqS"
   },
   "source": [
    "### Hybrid Jaccard-Pearson Correlation\n",
    "\n",
    "This cell introduces a hybrid similarity. It combines the Jaccard similarity and Pearson similarity in a unique way.  \n",
    "\n",
    "* **Jaccard Index:** Measures the similarity between two users based on the number of common movies they rated.\n",
    "The Jaccard similarity is calculated as:\n",
    "$$\n",
    "\\text{Jaccard}(x, y) = \\frac{|I_x \\cap I_y|}{|I_x \\cup I_y|}\n",
    "$$\n",
    "where \\\\( I_x \\\\) and \\\\( I_y \\\\) represent the sets of items rated by users \\\\( x \\\\) and \\\\( y \\\\), respectively. Here, \\\\( |I_x \\cap I_y| \\\\) gives the number of movies both users have rated, while \\\\( |I_x \\cup I_y| \\\\) gives the total number of unique items or movies rated by either user. This ratio emphasizes the intensity of overlap between the two users’ rated movies, which is very much important when users have rated only a few movies.\n",
    "\n",
    "* **Pearson Correlation:** Measures the linear relationship between two sets of numerical values. It captures the tendency of two users to rate movies similarly.\n",
    "\n",
    "**Hybrid Approach:**\n",
    "\n",
    "The `hybrid_jaccard_pearson` function calculates a weighted average of the Jaccard similarity and Pearson correlation. The weight is controlled by the `alpha` parameter (0 <= alpha <= 1).\n",
    "\n",
    "* `alpha = 0`: Pure Pearson correlation.\n",
    "* `alpha = 1`: Pure Jaccard similarity.\n",
    "* `0 < alpha < 1`: A combination of both. We set the alpha as 0.4.\n",
    "\n",
    "This hybrid approach aims to use the strengths of both approaches, potentially leading to more accurate similarity estimates and improved recommendation quality."
   ]
  },
  {
   "cell_type": "code",
   "execution_count": 7,
   "metadata": {
    "id": "rR9d214_UP6i"
   },
   "outputs": [],
   "source": [
    "#Function for hybrid Jaccard-Pearson correlation\n",
    "def hybrid_jaccard_pearson(x, y, alpha=0.4):\n",
    "    # Stack the ratings of both users\n",
    "    xy_stacked = np.vstack([x, y])\n",
    "    # Mask only for common items\n",
    "    common_mask = ~np.isnan(x) & ~np.isnan(y)\n",
    "    x_common, y_common = x[common_mask], y[common_mask]\n",
    "    n_common = np.sum(common_mask)\n",
    "\n",
    "    # Return 0 if fewer than min_common items are rated in common\n",
    "    min_common = 4\n",
    "    if n_common < min_common:\n",
    "        return 0\n",
    "    x_mean, y_mean = np.mean(x_common), np.mean(y_common)\n",
    "    numerator = np.sum((x_common - x_mean) * (y_common - y_mean))\n",
    "    denominator = np.sqrt(np.sum((x_common - x_mean) ** 2) * np.sum((y_common - y_mean) ** 2))\n",
    "\n",
    "    raw_pearson = numerator / denominator if denominator != 0 else 0\n",
    "\n",
    "    # Calculate Jaccard similarity based on the union of rated items\n",
    "    total_mask = ~np.isnan(x) | ~np.isnan(y)\n",
    "    total_items = np.sum(total_mask)\n",
    "    jaccard_similarity = n_common / total_items if total_items > 0 else 0\n",
    "    hybrid_similarity = alpha * jaccard_similarity + (1 - alpha) * raw_pearson\n",
    "    return hybrid_similarity\n",
    "\n",
    "# Function to find similar users\n",
    "def get_similarUsers_hjp(u_index, ui_matrix, topk_users=30, alpha=0.4):\n",
    "    sim = []\n",
    "    total_users = ui_matrix.shape[0]\n",
    "    x = np.array(ui_matrix.iloc[u_index, :])\n",
    "\n",
    "    for i in range(total_users):\n",
    "        if i != u_index:\n",
    "            y = np.array(ui_matrix.iloc[i, :])\n",
    "\n",
    "            # Calculate the hybrid Jaccard-Pearson correlation\n",
    "            r = hybrid_jaccard_pearson(x, y, alpha=alpha)\n",
    "            sim.append((i, r))\n",
    "    sim.sort(key=lambda o: o[1])\n",
    "    sim_top = list(reversed(sim[-topk_users:]))\n",
    "    return sim_top  # returning the top k most similar users to the target user\n"
   ]
  },
  {
   "cell_type": "markdown",
   "metadata": {
    "id": "GxyxcezdnLpf"
   },
   "source": [
    "# Prediction Function for Hybrid Jaccard-Pearson Correlation\n",
    "This pred function will use Hybrid Jaccard-Pearson Correlation or similarity.  We are using top 30 similar users' similarity score for calculating the predicted ratings."
   ]
  },
  {
   "cell_type": "code",
   "execution_count": 8,
   "metadata": {
    "id": "-8jYXINaUt4H"
   },
   "outputs": [],
   "source": [
    "def pred_hjp(ui_matrix, u_index, sim_matrix, topk_recommendations=30):\n",
    "    item_pred = []\n",
    "    x = np.array(ui_matrix.iloc[u_index, :])\n",
    "    x_mean = np.nanmean(x)\n",
    "    for item in range(len(x)):\n",
    "        if np.isnan(ui_matrix.iloc[u_index, item]):\n",
    "            simsum_centering = []\n",
    "            sim_sum = 0  # Initialize sim_sum for this item\n",
    "            for index, similarity in sim_matrix:\n",
    "                if not np.isnan(ui_matrix.iloc[index, item]):\n",
    "                    y = np.array(ui_matrix.iloc[index, :])\n",
    "                    y_mean = np.nanmean(y)\n",
    "                    rating = ui_matrix.iloc[index, item]\n",
    "                    rating_centered = rating - y_mean\n",
    "                    simsum_centering.append(similarity * rating_centered)\n",
    "\n",
    "                    sim_sum += similarity  # Add similarity for users who rated the item\n",
    "\n",
    "            if sim_sum != 0 and np.sum(simsum_centering) != 0: # check zero values\n",
    "                pred = x_mean + (np.sum(simsum_centering) / abs(sim_sum))\n",
    "            else:\n",
    "                pred = x_mean  # If either is zero, set pred to x_mean\n",
    "            item_pred.append((item, pred))\n",
    "\n",
    "    item_pred.sort(key=lambda u: u[1])\n",
    "    return list(reversed(item_pred[-topk_recommendations:]))"
   ]
  },
  {
   "cell_type": "markdown",
   "metadata": {
    "id": "TrctgYxiopjK"
   },
   "source": [
    "# Recommendation based on Hybrid Jaccard-Pearson Correlation collaborative filtering approach\n",
    "\n",
    "Here we will predict movie ratings by using Hybrid Jaccard-Pearson Correlation. By running this cell a user will be able to enter a user ID. Then our code will find similar users by using get_similarUsers, predicts movie ratings using pred. It will then print the top 10 similar users and top 20 movie recommended movies (based on highest predicted ratings) along with their genres and predicted scores."
   ]
  },
  {
   "cell_type": "code",
   "execution_count": 9,
   "metadata": {
    "colab": {
     "base_uri": "https://localhost:8080/"
    },
    "id": "yQoWn2jTU6yW",
    "outputId": "a7c2861b-c19b-48b0-dced-59266a6c2fc2"
   },
   "outputs": [
    {
     "name": "stdout",
     "output_type": "stream",
     "text": [
      "Top 10 Most Similar Users for user:  1\n",
      "User ID: 473 , Score:  0.5833880050386824\n",
      "User ID: 511 , Score:  0.5641251533887106\n",
      "User ID: 9 , Score:  0.5584611994522223\n",
      "User ID: 13 , Score:  0.536324560792986\n",
      "User ID: 366 , Score:  0.5314748745508778\n",
      "User ID: 535 , Score:  0.5292151352663781\n",
      "User ID: 401 , Score:  0.5268418313285088\n",
      "User ID: 90 , Score:  0.501521730326078\n",
      "User ID: 157 , Score:  0.48913475157139613\n",
      "User ID: 476 , Score:  0.4873339411717199\n",
      "\n",
      "\n",
      "Top 20 Recommended Movies for user:  1\n",
      "\n",
      "\n",
      "Movie Id: 319 , Movie:  Shallow Grave (1994) , Genre:  Comedy|Drama|Thriller , Rating:  6.769157088122605\n",
      "Movie Id: 27482 , Movie:  Cube 2: Hypercube (2002) , Genre:  Horror|Mystery|Sci-Fi , Rating:  6.223522167487685\n",
      "Movie Id: 105653 , Movie:  Escape Plan (2013) , Genre:  Action|Mystery|Thriller , Rating:  6.222049413437611\n",
      "Movie Id: 1475 , Movie:  Kama Sutra: A Tale of Love (1996) , Genre:  Romance , Rating:  6.012212643678161\n",
      "Movie Id: 1428 , Movie:  Angel Baby (1995) , Genre:  Drama , Rating:  6.012212643678161\n",
      "Movie Id: 737 , Movie:  Barb Wire (1996) , Genre:  Action|Sci-Fi , Rating:  6.012212643678161\n",
      "Movie Id: 112 , Movie:  Rumble in the Bronx (Hont faan kui) (1995) , Genre:  Action|Adventure|Comedy|Crime , Rating:  6.012212643678161\n",
      "Movie Id: 1883 , Movie:  Bulworth (1998) , Genre:  Comedy|Drama|Romance , Rating:  5.974906442127773\n",
      "Movie Id: 140715 , Movie:  Straight Outta Compton (2015) , Genre:  Drama , Rating:  5.930895439377085\n",
      "Movie Id: 171 , Movie:  Jeffrey (1995) , Genre:  Comedy|Drama , Rating:  5.886379310344827\n",
      "Movie Id: 5875 , Movie:  Personal Velocity (2002) , Genre:  Drama , Rating:  5.83860153256705\n",
      "Movie Id: 2598 , Movie:  Pushing Tin (1999) , Genre:  Comedy , Rating:  5.801368586915396\n",
      "Movie Id: 2950 , Movie:  Blue Lagoon, The (1980) , Genre:  Adventure|Drama|Romance , Rating:  5.769157088122605\n",
      "Movie Id: 1342 , Movie:  Candyman (1992) , Genre:  Horror|Thriller , Rating:  5.769157088122605\n",
      "Movie Id: 866 , Movie:  Bound (1996) , Genre:  Crime|Drama|Romance|Thriller , Rating:  5.769157088122605\n",
      "Movie Id: 482 , Movie:  Killing Zoe (1994) , Genre:  Crime|Drama|Thriller , Rating:  5.769157088122605\n",
      "Movie Id: 288 , Movie:  Natural Born Killers (1994) , Genre:  Action|Crime|Thriller , Rating:  5.769157088122605\n",
      "Movie Id: 95720 , Movie:  Watch, The (2012) , Genre:  Comedy|Sci-Fi , Rating:  5.722049413437611\n",
      "Movie Id: 66203 , Movie:  He's Just Not That Into You (2009) , Genre:  Comedy|Drama|Romance , Rating:  5.722049413437611\n",
      "Movie Id: 5137 , Movie:  Scratch (2001) , Genre:  Documentary , Rating:  5.722049413437611\n"
     ]
    }
   ],
   "source": [
    "\n",
    "while True:\n",
    "    user_id_input = input(\"Enter the user ID: \").strip()  # Get input and trim spaces\n",
    "    try:\n",
    "        user_id = int(user_id_input)  # Try converting to integer\n",
    "        break  # Exit loop if successful\n",
    "    except ValueError:\n",
    "        print(\"Invalid input. Please enter an integer.\")\n",
    "sim_hjp = get_similarUsers_hjp(u_index=user_id - 1, ui_matrix=user_rating_mat,\n",
    "                       topk_users=30)  # topk_users argument takes 30 top similar users default\n",
    "predictions_hjp = pred_hjp(ui_matrix=user_rating_mat, u_index=user_id - 1, sim_matrix=sim_hjp, topk_recommendations=20)\n",
    "\n",
    "# Top 10 Most Similar Users\n",
    "print(\"Top 10 Most Similar Users for user: \", user_id)\n",
    "for index, score in sim_hjp[:10]:\n",
    "    print (\"User ID:\", index + 1, \", Score: \", score)  # + 1 because users start from 1\n",
    "\n",
    "# Top 30 Movie Recommendations for User\n",
    "print('\\n')\n",
    "print(\"Top 20 Recommended Movies for user: \", user_id)\n",
    "print('\\n')\n",
    "p_list = []\n",
    "for index, value in predictions_hjp:\n",
    "    movie_id = movies.get('movieId')[index]  # get the Movie ID corresponding the index\n",
    "    movie_title = movies.get('title')[index]  # get the Movie Title corresponding the index\n",
    "    movie_genre = movies.get('genres')[index]  # get the Movie Genres corresponding the index\n",
    "\n",
    "    p_list.append(movie_id)\n",
    "    print(\"Movie Id:\", movie_id, \", Movie: \", movie_title, \", Genre: \", movie_genre, \", Rating: \", value)"
   ]
  }
 ],
 "metadata": {
  "colab": {
   "provenance": []
  },
  "kernelspec": {
   "display_name": "TAU_ML",
   "language": "python",
   "name": "python3"
  },
  "language_info": {
   "codemirror_mode": {
    "name": "ipython",
    "version": 3
   },
   "file_extension": ".py",
   "mimetype": "text/x-python",
   "name": "python",
   "nbconvert_exporter": "python",
   "pygments_lexer": "ipython3",
   "version": "3.12.5"
  }
 },
 "nbformat": 4,
 "nbformat_minor": 0
}
